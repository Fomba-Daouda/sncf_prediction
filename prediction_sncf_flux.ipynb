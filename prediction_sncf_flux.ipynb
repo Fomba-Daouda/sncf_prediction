{
 "cells": [
  {
   "cell_type": "code",
   "execution_count": 331,
   "metadata": {},
   "outputs": [],
   "source": [
    "import pandas as pd\n",
    "import numpy as np\n",
    "import matplotlib.pyplot as plt\n",
    "from sklearn.linear_model import LinearRegression\n",
    "from sklearn.model_selection import train_test_split\n",
    "from sklearn.preprocessing import OneHotEncoder\n",
    "from sklearn.compose import ColumnTransformer\n",
    "from sklearn.pipeline import Pipeline\n",
    "from sklearn.metrics import mean_squared_error, r2_score,mean_absolute_percentage_error"
   ]
  },
  {
   "cell_type": "markdown",
   "metadata": {},
   "source": [
    "## Objectif du projet : \n",
    "#### Prédire le nombre de validations par jour pour toutes les gares de SNCF-Transilien entre le 1er janvier 2023 et le 30 juin 2023. \n"
   ]
  },
  {
   "cell_type": "markdown",
   "metadata": {},
   "source": [
    "#### x-train est un jeu de données avec 1 237 971 lignes et 6 colonnes. Il s’agit des données quotidiennes de validations des 448 stations du réseau SNCF-Transilien (comprenant toutes les gares du RER A et du RER B) entre le 1er janvier 2015 et le 31 décembre 2022 (soit 2922 jours).\n",
    "\n",
    "#### et y-train c'est le nombre de validations par jour pour toutes les gares de SNCF-Transilien entre le 1er janvier 2015 et le 31 décembre 2022 (soit 2922 jours)."
   ]
  },
  {
   "cell_type": "code",
   "execution_count": 332,
   "metadata": {},
   "outputs": [],
   "source": [
    "#Récupération des données\n",
    "X = pd.read_csv(\"Data/train_f_x.csv\")\n",
    "y =  pd.read_csv(\"Data/y_train_sncf.csv\")\n",
    "final_test_data = pd.read_csv(\"Data/test_f_x_THurtzP.csv\")"
   ]
  },
  {
   "cell_type": "code",
   "execution_count": 333,
   "metadata": {},
   "outputs": [],
   "source": [
    "# Convertir les dates en nombre de jour depuis le début de l'enregistrement\n",
    "\n",
    "def days_since_start(df) : \n",
    "    df['date'] = pd.to_datetime(df['date'])\n",
    "    # Convertir les dates en jours écoulés depuis une date de référence\n",
    "    df['days_since_start'] = (df['date'] - pd.to_datetime(\"2015-01-01\")).dt.days  \n",
    "    return df  \n",
    "\n"
   ]
  },
  {
   "cell_type": "code",
   "execution_count": 334,
   "metadata": {},
   "outputs": [],
   "source": [
    "# Convertir les dates en jours écoulés depuis une date de référence\n",
    "X = days_since_start(X)\n",
    "final_test_data  = days_since_start(final_test_data)\n"
   ]
  },
  {
   "cell_type": "code",
   "execution_count": 335,
   "metadata": {},
   "outputs": [],
   "source": [
    "#Selection des variables indépendantes :\n",
    "X = X[[\"days_since_start\",\"station\",\"job\", \"ferie\",\"vacances\"]]\n",
    "final_test_data = final_test_data[[\"days_since_start\",\"station\",\"job\", \"ferie\",\"vacances\"]]\n",
    "\n",
    "# J'enlève les jours dont le nombre de validation dans la gare est nulle car c'est presque impossible que ç'arrive\n",
    "valeurs_manquantes = y.loc[y[\"y\"]==0]\n",
    "indices_to_exclure = valeurs_manquantes.index\n",
    "X = X.drop(indices_to_exclure)\n",
    "y = y.drop(indices_to_exclure)\n",
    "#Selection des variables à préduire, j'enlève les indices \n",
    "y = y[\"y\"]\n"
   ]
  },
  {
   "cell_type": "code",
   "execution_count": 336,
   "metadata": {},
   "outputs": [],
   "source": [
    "#Création de l'ensemble de test et l'ensemble d'entrainement:\n",
    "X_train, X_test, y_train, y_test = train_test_split(X, y, test_size=0.2, random_state=42)"
   ]
  },
  {
   "cell_type": "code",
   "execution_count": 337,
   "metadata": {},
   "outputs": [
    {
     "name": "stdout",
     "output_type": "stream",
     "text": [
      "Mean Squared Error: 21478450.557135094\n",
      "R^2 Score: 0.7743547572951\n"
     ]
    }
   ],
   "source": [
    "#Création d'une pipeline pour la transformation de la colonne station et la réalisation du modèle\n",
    "\n",
    "preprocessor = ColumnTransformer(\n",
    "    transformers=[\n",
    "        ('cat', OneHotEncoder(drop='first'), ['station'])\n",
    "    ],\n",
    "    remainder='passthrough'\n",
    ")\n",
    "\n",
    "pipeline = Pipeline(steps=[\n",
    "    ('preprocessor', preprocessor),\n",
    "    ('regressor', LinearRegression())\n",
    "])\n",
    "\n",
    "\n",
    "# Entraîner le modèle\n",
    "pipeline.fit(X_train, y_train)\n",
    "\n",
    "# Prédire sur l'ensemble de test\n",
    "y_pred = pipeline.predict(X_test)\n",
    "\n",
    "# Évaluer le modèle\n",
    "mse = mean_squared_error(y_test, y_pred)\n",
    "r2 = r2_score(y_test, y_pred)\n",
    "\n",
    "print(f'Mean Squared Error: {mse}')\n",
    "print(f'R^2 Score: {r2}')\n",
    "\n"
   ]
  },
  {
   "cell_type": "code",
   "execution_count": 338,
   "metadata": {},
   "outputs": [
    {
     "data": {
      "text/plain": [
       "12.940642867999314"
      ]
     },
     "execution_count": 338,
     "metadata": {},
     "output_type": "execute_result"
    }
   ],
   "source": [
    "mape = mean_absolute_percentage_error(y_test,y_pred)\n",
    "mape"
   ]
  },
  {
   "cell_type": "code",
   "execution_count": 355,
   "metadata": {},
   "outputs": [
    {
     "data": {
      "text/plain": [
       "array([-4724.00118601, -4861.86485645, -4771.19934986, -4762.12218729,\n",
       "       -4680.58604855, -4481.66780853, -4637.16992733, -2142.44990791,\n",
       "       -4526.94270232, -4303.65650072, -4648.07836569, -4476.7832296 ,\n",
       "       -4459.89185418, -3785.99285395, -4244.16501406, -4728.30678918,\n",
       "       -4473.75771482, -4417.20217792, -4044.1007875 , -4825.34288979])"
      ]
     },
     "execution_count": 355,
     "metadata": {},
     "output_type": "execute_result"
    }
   ],
   "source": [
    "\n",
    "pred = pipeline.predict(final_test_data.head(20))"
   ]
  },
  {
   "cell_type": "markdown",
   "metadata": {},
   "source": [
    "data"
   ]
  }
 ],
 "metadata": {
  "kernelspec": {
   "display_name": "base",
   "language": "python",
   "name": "python3"
  },
  "language_info": {
   "codemirror_mode": {
    "name": "ipython",
    "version": 3
   },
   "file_extension": ".py",
   "mimetype": "text/x-python",
   "name": "python",
   "nbconvert_exporter": "python",
   "pygments_lexer": "ipython3",
   "version": "3.11.4"
  }
 },
 "nbformat": 4,
 "nbformat_minor": 2
}
