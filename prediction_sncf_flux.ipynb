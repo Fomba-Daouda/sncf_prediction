{
 "cells": [
  {
   "cell_type": "code",
   "execution_count": 127,
   "metadata": {},
   "outputs": [],
   "source": [
    "import pandas as pd\n",
    "import numpy as np\n",
    "import matplotlib.pyplot as plt\n",
    "from sklearn.model_selection import train_test_split\n",
    "from statsmodels.tsa.api import VAR\n",
    "from sklearn.metrics import mean_squared_error, r2_score,mean_absolute_percentage_error"
   ]
  },
  {
   "cell_type": "markdown",
   "metadata": {},
   "source": [
    "## Objectif du projet : \n",
    "#### Prédire le nombre de validations par jour pour toutes les gares de SNCF-Transilien entre le 1er janvier 2023 et le 30 juin 2023. \n"
   ]
  },
  {
   "cell_type": "markdown",
   "metadata": {},
   "source": [
    "#### x-train est un jeu de données avec 1 237 971 lignes et 6 colonnes. Il s’agit des données quotidiennes de validations des 448 stations du réseau SNCF-Transilien (comprenant toutes les gares du RER A et du RER B) entre le 1er janvier 2015 et le 31 décembre 2022 (soit 2922 jours).\n",
    "\n",
    "#### et y-train c'est le nombre de validations par jour pour toutes les gares de SNCF-Transilien entre le 1er janvier 2015 et le 31 décembre 2022 (soit 2922 jours)."
   ]
  },
  {
   "cell_type": "code",
   "execution_count": 128,
   "metadata": {},
   "outputs": [],
   "source": [
    "#Récupération des données\n",
    "X = pd.read_csv(\"Data/train_f_x.csv\")\n",
    "y =  pd.read_csv(\"Data/y_train_sncf.csv\")\n",
    "final_test_data = pd.read_csv(\"Data/test_f_x_THurtzP.csv\")"
   ]
  },
  {
   "cell_type": "code",
   "execution_count": 129,
   "metadata": {},
   "outputs": [],
   "source": [
    "# Conversion de la colonne 'date' en datetime\n",
    "X['date'] = pd.to_datetime(X['date'])\n",
    "# Encodage de la colonne 'station'\n",
    "X['station'] = X['station'].astype('category').cat.codes\n",
    "# Préparation des données pour le modèle VAR\n",
    "X = X.set_index('date')\n",
    "X = X[['station','job', 'ferie', 'vacances']]\n",
    "y = y['y']"
   ]
  },
  {
   "cell_type": "code",
   "execution_count": 130,
   "metadata": {},
   "outputs": [],
   "source": [
    "#Création de l'ensemble de test et l'ensemble d'entrainement:\n",
    "X_train, X_test, y_train, y_test = train_test_split(X, y, test_size=0.2, random_state=42)"
   ]
  },
  {
   "cell_type": "code",
   "execution_count": 131,
   "metadata": {},
   "outputs": [
    {
     "name": "stderr",
     "output_type": "stream",
     "text": [
      "/Users/daoudafomba/anaconda3/lib/python3.11/site-packages/statsmodels/tsa/base/tsa_model.py:473: ValueWarning: A date index has been provided, but it has no associated frequency information and so will be ignored when e.g. forecasting.\n",
      "  self._init_dates(dates, freq)\n",
      "/Users/daoudafomba/anaconda3/lib/python3.11/site-packages/statsmodels/tsa/base/tsa_model.py:473: ValueWarning: A date index has been provided, but it is not monotonic and so will be ignored when e.g. forecasting.\n",
      "  self._init_dates(dates, freq)\n"
     ]
    }
   ],
   "source": [
    "# Ajustement du modèle VAR sur les données d'entraînement\n",
    "model = VAR(X_train)\n",
    "model_fitted = model.fit(ic='aic')\n",
    "# Vérification de l'ordre optimal du lag choisi\n",
    "print(f'Optimal Lag Order: {model_fitted.k_ar}')\n",
    "print(model_fitted.summary())\n"
   ]
  },
  {
   "cell_type": "code",
   "execution_count": null,
   "metadata": {},
   "outputs": [],
   "source": [
    "# Nombre de jours à prévoir\n",
    "n_forecast = len(test)\n",
    "\n",
    "# Prévision avec le modèle VAR\n",
    "forecast_input = train.values[-model_fitted.k_ar:]\n",
    "forecast = model_fitted.forecast(y=forecast_input, steps=n_forecast)\n",
    "\n",
    "# Conversion de la prévision en DataFrame\n",
    "forecast_df = pd.DataFrame(forecast, index=test.index, columns=train.columns)\n",
    "\n",
    "# Affichage des prévisions\n",
    "print(forecast_df.head())\n",
    "\n",
    "# Ajout des prévisions au DataFrame test pour comparaison\n",
    "test['y_pred'] = forecast_df['y']\n",
    "\n",
    "# Affichage des valeurs réelles vs prédites\n",
    "print(test[['y', 'y_pred']])\n"
   ]
  },
  {
   "cell_type": "code",
   "execution_count": null,
   "metadata": {},
   "outputs": [],
   "source": [
    "# Calcul de l'erreur quadratique moyenne\n",
    "mse = mean_squared_error(test['y'], test['y_pred'])\n",
    "print(f'Mean Squared Error: {mse}')\n"
   ]
  },
  {
   "cell_type": "code",
   "execution_count": null,
   "metadata": {},
   "outputs": [
    {
     "data": {
      "text/plain": [
       "12.940642867999314"
      ]
     },
     "execution_count": 40,
     "metadata": {},
     "output_type": "execute_result"
    }
   ],
   "source": [
    "mape = mean_absolute_percentage_error(y_test,y_pred)\n",
    "mape"
   ]
  }
 ],
 "metadata": {
  "kernelspec": {
   "display_name": "base",
   "language": "python",
   "name": "python3"
  },
  "language_info": {
   "codemirror_mode": {
    "name": "ipython",
    "version": 3
   },
   "file_extension": ".py",
   "mimetype": "text/x-python",
   "name": "python",
   "nbconvert_exporter": "python",
   "pygments_lexer": "ipython3",
   "version": "3.11.4"
  }
 },
 "nbformat": 4,
 "nbformat_minor": 2
}
